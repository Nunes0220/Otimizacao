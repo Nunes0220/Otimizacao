{
  "nbformat": 4,
  "nbformat_minor": 0,
  "metadata": {
    "colab": {
      "provenance": [],
      "toc_visible": true
    },
    "kernelspec": {
      "name": "python3",
      "display_name": "Python 3"
    },
    "language_info": {
      "name": "python"
    }
  },
  "cells": [
    {
      "cell_type": "markdown",
      "source": [
        "# Resumo modelo + validação"
      ],
      "metadata": {
        "id": "X-z3ZwASDZs-"
      }
    },
    {
      "cell_type": "code",
      "source": [
        "# Resumo modelo + validação DecisionTreeClassifier\n",
        "\n",
        "import pandas as pd\n",
        "dados = pd.read_csv('https://raw.githubusercontent.com/Nunes0220/Valida-o_de_Modelos/refs/heads/main/emp_automovel.csv')\n",
        "dados.head()\n",
        "\n",
        "# X separar features(x) e tarfet(y)\n",
        "x = dados.drop('inadimplente', axis=1)\n",
        "y = dados['inadimplente']\n",
        "\n",
        "from sklearn.tree import DecisionTreeClassifier\n",
        "from sklearn.model_selection import train_test_split, cross_validate\n",
        "\n",
        "seed = 5\n",
        "x_train, x_test, y_train, y_test = train_test_split(x, y, test_size=0.2, stratify=y, random_state=seed)\n",
        "\n",
        "# Treino + validação cruzada\n",
        "from sklearn.tree import DecisionTreeClassifier\n",
        "from sklearn.metrics import accuracy_score, precision_score, recall_score, f1_score\n",
        "from sklearn.model_selection import StratifiedKFold\n",
        "\n",
        "modelo = DecisionTreeClassifier(max_depth=10, random_state=seed)\n",
        "skf = StratifiedKFold(n_splits=5, shuffle=True, random_state=seed)\n",
        "scv = cross_validate(modelo, x_train, y_train, cv=skf, scoring=[\"recall\",\"precision\",\"accuracy\",\"f1\"])\n",
        "scv\n",
        "\n",
        "def media_desvio(metrica):\n",
        "  media = scv[metrica].mean()\n",
        "  devio_padrao = round(scv[metrica].std(),4)\n",
        "  # print(f\"{metrica}: {media} +- {devio_padrao}\")\n",
        "  print(f\"{metrica} média: {round(media - 2*devio_padrao,4)} - {round(media + 2*devio_padrao,4)}\")\n",
        "\n",
        "print(\"\\nDecision Tree\")\n",
        "media_desvio(\"test_accuracy\")\n",
        "media_desvio(\"test_recall\")\n",
        "media_desvio(\"test_precision\")\n",
        "media_desvio(\"test_f1\")\n",
        "\n",
        "# Resumo modelo forest\n",
        "\n",
        "from sklearn.ensemble import RandomForestClassifier\n",
        "from sklearn.model_selection import StratifiedKFold\n",
        "\n",
        "modelo = RandomForestClassifier(n_estimators= 100, max_depth=10, random_state=seed)\n",
        "skf = StratifiedKFold(n_splits=5, shuffle=True, random_state=seed)\n",
        "scv = cross_validate(modelo, x_train, y_train, cv=skf, scoring=[\"recall\",\"precision\",\"accuracy\",\"f1\"])\n",
        "scv\n",
        "\n",
        "def media_desvio(metrica):\n",
        "  media = scv[metrica].mean()\n",
        "  devio_padrao = round(scv[metrica].std(),4)\n",
        "  # print(f\"{metrica}: {media} +- {devio_padrao}\")\n",
        "  print(f\"{metrica} média: {round(media - 2*devio_padrao,4)} - {round(media + 2*devio_padrao,4)}\")\n",
        "\n",
        "print(\"\\nRandom Forest\")\n",
        "media_desvio(\"test_accuracy\")\n",
        "media_desvio(\"test_recall\")\n",
        "media_desvio(\"test_precision\")\n",
        "media_desvio(\"test_f1\")\n",
        "\n",
        "# KNEIGHOURS\n",
        "\n",
        "from sklearn.neighbors import KNeighborsClassifier\n",
        "from sklearn.model_selection import StratifiedKFold\n",
        "modelo = KNeighborsClassifier()\n",
        "skf = StratifiedKFold(n_splits=5, shuffle=True, random_state=seed)\n",
        "scv = cross_validate(modelo, x_train, y_train, cv=skf, scoring=[\"recall\",\"precision\",\"accuracy\",\"f1\"])\n",
        "scv\n",
        "\n",
        "def media_desvio(metrica):\n",
        "  media = scv[metrica].mean()\n",
        "  devio_padrao = round(scv[metrica].std(),4)\n",
        "  # print(f\"{metrica}: {media} +- {devio_padrao}\")\n",
        "  print(f\"{metrica} média: {round(media - 2*devio_padrao,4)} - {round(media + 2*devio_padrao,4)}\")\n",
        "\n",
        "print(\"\\nKNeighbors\")\n",
        "media_desvio(\"test_accuracy\")\n",
        "media_desvio(\"test_recall\")\n",
        "media_desvio(\"test_precision\")\n",
        "media_desvio(\"test_f1\")"
      ],
      "metadata": {
        "id": "ZNEwNdbJe4z0",
        "colab": {
          "base_uri": "https://localhost:8080/"
        },
        "outputId": "8809515b-6790-4c5e-dd14-6e7e9684706e"
      },
      "execution_count": 10,
      "outputs": [
        {
          "output_type": "stream",
          "name": "stdout",
          "text": [
            "\n",
            "Decision Tree\n",
            "test_accuracy média: 0.9055 - 0.9087\n",
            "test_recall média: 0.0071 - 0.0347\n",
            "test_precision média: 0.1163 - 0.2711\n",
            "test_f1 média: 0.0137 - 0.0617\n",
            "\n",
            "Random Forest\n",
            "test_accuracy média: 0.9124 - 0.9128\n",
            "test_recall média: -0.0017 - 0.0043\n",
            "test_precision média: -0.2039 - 0.7105\n",
            "test_f1 média: -0.0032 - 0.0084\n",
            "\n",
            "KNeighbors\n",
            "test_accuracy média: 0.9028 - 0.908\n",
            "test_recall média: 0.0061 - 0.0189\n",
            "test_precision média: 0.0581 - 0.1757\n",
            "test_f1 média: 0.0111 - 0.0339\n"
          ]
        }
      ]
    },
    {
      "cell_type": "markdown",
      "source": [
        "# Métodos de Classificação e Balanciamento\n"
      ],
      "metadata": {
        "id": "-0SYBM1alGI7"
      }
    },
    {
      "cell_type": "code",
      "source": [
        "from sklearn.tree import DecisionTreeClassifier\n",
        "from sklearn.metrics import accuracy_score, precision_score, recall_score, f1_score\n",
        "from sklearn.model_selection import StratifiedKFold\n",
        "from imblearn.over_sampling import SMOTE\n",
        "from sklearn.model_selection import train_test_split, cross_validate\n",
        "\n",
        "x = dados.drop('inadimplente', axis=1)\n",
        "y = dados['inadimplente']\n",
        "seed = 123\n",
        "\n",
        "x_treino, x_test, y_treino, y_test = train_test_split(x, y, test_size=0.15, stratify=y, random_state=seed)\n",
        "\n",
        "sm = SMOTE(random_state=seed)\n",
        "x_balanceado, y_balanceado = sm.fit_resample(x_treino, y_treino)\n",
        "y_balanceado.value_counts()\n",
        "\n",
        "modelo = DecisionTreeClassifier(max_depth=10, random_state=seed)\n",
        "skf = StratifiedKFold(n_splits=5, shuffle=True, random_state=seed)\n",
        "scv = cross_validate(modelo, x_balanceado, y_balanceado, cv=skf, scoring=[\"recall\",\"precision\",\"accuracy\",\"f1\"])\n",
        "\n",
        "def media_desvio(metrica):\n",
        "  media = scv[metrica].mean()\n",
        "  devio_padrao = round(scv[metrica].std(),4)\n",
        "  # print(f\"{metrica}: {media} +- {devio_padrao}\")\n",
        "  print(f\"{metrica} média: {round(media - 2*devio_padrao,3)} - {round(media + 2*devio_padrao,3)}\")\n",
        "\n",
        "media_desvio(\"test_accuracy\")\n",
        "media_desvio(\"test_recall\")\n",
        "media_desvio(\"test_precision\")\n",
        "media_desvio(\"test_f1\")"
      ],
      "metadata": {
        "id": "gAC1MMd4lxgb",
        "colab": {
          "base_uri": "https://localhost:8080/"
        },
        "outputId": "7b513250-d1e9-4f21-88e7-a6d00c756f98"
      },
      "execution_count": 11,
      "outputs": [
        {
          "output_type": "stream",
          "name": "stdout",
          "text": [
            "test_accuracy média: 0.781 - 0.783\n",
            "test_recall média: 0.709 - 0.737\n",
            "test_precision média: 0.812 - 0.828\n",
            "test_f1 média: 0.764 - 0.773\n"
          ]
        }
      ]
    },
    {
      "cell_type": "code",
      "source": [
        "from sklearn.tree import DecisionTreeClassifier\n",
        "from sklearn.metrics import accuracy_score, precision_score, recall_score, f1_score\n",
        "from sklearn.model_selection import StratifiedKFold\n",
        "from imblearn.over_sampling import SMOTE\n",
        "from sklearn.model_selection import train_test_split, cross_validate\n",
        "\n",
        "x = dados.drop('inadimplente', axis=1)\n",
        "y = dados['inadimplente']\n",
        "seed = 123\n",
        "\n",
        "x_treino, x_test, y_treino, y_test = train_test_split(x, y, test_size=0.15, stratify=y, random_state=seed)\n",
        "\n",
        "#pipeline - balanceamento e validaçao\n",
        "from imblearn.pipeline import Pipeline as imbpipeline\n",
        "\n",
        "sm = SMOTE(random_state=seed)\n",
        "modelo = DecisionTreeClassifier(max_depth=10, random_state=seed)\n",
        "\n",
        "pipeline = imbpipeline([(\"balanceamento\", sm), (\"modelo\", modelo)])\n",
        "\n",
        "skf = StratifiedKFold(n_splits=5, shuffle=True, random_state=seed)\n",
        "scv = cross_validate(pipeline, x_treino, y_treino, cv=skf, scoring=[\"recall\",\"precision\",\"accuracy\",\"f1\"])\n",
        "\n",
        "def media_desvio(metrica):\n",
        "  media = scv[metrica].mean()\n",
        "  devio_padrao = round(scv[metrica].std(),4)\n",
        "  # print(f\"{metrica}: {media} +- {devio_padrao}\")\n",
        "  print(f\"{metrica} média: {round(media - 2*devio_padrao,3)} - {round(media + 2*devio_padrao,3)}\")\n",
        "\n",
        "media_desvio(\"test_accuracy\")\n",
        "media_desvio(\"test_recall\")\n",
        "media_desvio(\"test_precision\")\n",
        "media_desvio(\"test_f1\")"
      ],
      "metadata": {
        "id": "iRRRz6qTl9Jz",
        "colab": {
          "base_uri": "https://localhost:8080/"
        },
        "outputId": "b3a83670-5f10-4563-9ab3-f661645d5d21"
      },
      "execution_count": 12,
      "outputs": [
        {
          "output_type": "stream",
          "name": "stdout",
          "text": [
            "test_accuracy média: 0.755 - 0.807\n",
            "test_recall média: 0.188 - 0.268\n",
            "test_precision média: 0.101 - 0.131\n",
            "test_f1 média: 0.136 - 0.172\n"
          ]
        }
      ]
    },
    {
      "cell_type": "markdown",
      "source": [
        "## DecisiontreeCassifier"
      ],
      "metadata": {
        "id": "LkP9ganUH-Y6"
      }
    },
    {
      "cell_type": "code",
      "source": [
        "# DecisionTreeClassifier Smote\n",
        "\n",
        "from sklearn.tree import DecisionTreeClassifier\n",
        "from sklearn.metrics import accuracy_score, precision_score, recall_score, f1_score, confusion_matrix\n",
        "from sklearn.model_selection import StratifiedKFold\n",
        "from imblearn.over_sampling import SMOTE\n",
        "from sklearn.model_selection import train_test_split, cross_validate\n",
        "\n",
        "x = dados.drop('inadimplente', axis=1)\n",
        "y = dados['inadimplente']\n",
        "seed = 123\n",
        "\n",
        "x_treino, x_test, y_treino, y_test = train_test_split(x, y, test_size=0.15, stratify=y, random_state=seed)\n",
        "\n",
        "#pipeline - balanceamento e validaçao\n",
        "from imblearn.pipeline import Pipeline as imbpipeline\n",
        "\n",
        "sm = SMOTE(random_state=seed)\n",
        "modelo = DecisionTreeClassifier(max_depth=10, random_state=seed)\n",
        "\n",
        "pipeline = imbpipeline([(\"balanceamento\", sm), (\"modelo\", modelo)])\n",
        "\n",
        "skf = StratifiedKFold(n_splits=5, shuffle=True, random_state=seed)\n",
        "scv = cross_validate(pipeline, x_treino, y_treino, cv=skf, scoring=[\"recall\",\"precision\",\"accuracy\",\"f1\"])\n",
        "\n",
        "def media_desvio(metrica):\n",
        "  media = scv[metrica].mean()\n",
        "  devio_padrao = round(scv[metrica].std(),4)\n",
        "  # print(f\"{metrica}: {media} +- {devio_padrao}\")\n",
        "  print(f\"{metrica} média: {round(media - 2*devio_padrao,3)} - {round(media + 2*devio_padrao,3)}\")\n",
        "\n",
        "print(\"-------Teste validação cuzada-------\")\n",
        "media_desvio(\"test_accuracy\")\n",
        "media_desvio(\"test_recall\")\n",
        "media_desvio(\"test_precision\")\n",
        "media_desvio(\"test_f1\")\n",
        "\n",
        "# Treinando o modelo para utilização\n",
        "x_balanceado, y_balanceado = sm.fit_resample(x_treino, y_treino)\n",
        "modelo_final = modelo.fit(x_balanceado, y_balanceado)\n",
        "y_pred = modelo_final.predict(x_test)\n",
        "\n",
        "# Teste do modelo vinal com os dados de teste\n",
        "print(\"\\n-------Teste modelo final-----------\")\n",
        "print(f'Acurácia: {round(accuracy_score(y_test, y_pred),3)}')\n",
        "print(f'Precisão: {round(precision_score(y_test, y_pred),3)}')\n",
        "print(f'Recall:   {round(recall_score(y_test, y_pred),3)}')\n",
        "print(f'F1-score: {round(f1_score(y_test, y_pred),3)}\\n')\n",
        "\n",
        "matrix = confusion_matrix(y_test, y_pred)\n",
        "matrix\n",
        "\n",
        "from sklearn.metrics import ConfusionMatrixDisplay\n",
        "grafico_matrix = ConfusionMatrixDisplay(matrix, display_labels=modelo_final.classes_)\n",
        "grafico_matrix.plot()"
      ],
      "metadata": {
        "id": "GqgHe08OExmb",
        "colab": {
          "base_uri": "https://localhost:8080/",
          "height": 675
        },
        "outputId": "74444fcb-3648-4829-d3e7-bc75c76f5a01"
      },
      "execution_count": 13,
      "outputs": [
        {
          "output_type": "stream",
          "name": "stdout",
          "text": [
            "-------Teste validação cuzada-------\n",
            "test_accuracy média: 0.755 - 0.807\n",
            "test_recall média: 0.188 - 0.268\n",
            "test_precision média: 0.101 - 0.131\n",
            "test_f1 média: 0.136 - 0.172\n",
            "\n",
            "-------Teste modelo final-----------\n",
            "Acurácia: 0.794\n",
            "Precisão: 0.129\n",
            "Recall:   0.238\n",
            "F1-score: 0.167\n",
            "\n"
          ]
        },
        {
          "output_type": "execute_result",
          "data": {
            "text/plain": [
              "<sklearn.metrics._plot.confusion_matrix.ConfusionMatrixDisplay at 0x78d0bcafeb90>"
            ]
          },
          "metadata": {},
          "execution_count": 13
        },
        {
          "output_type": "display_data",
          "data": {
            "text/plain": [
              "<Figure size 640x480 with 2 Axes>"
            ],
            "image/png": "[encoded data removed]"
          },
          "metadata": {}
        }
      ]
    },
    {
      "cell_type": "code",
      "source": [
        "# DecisionTreeClassifier NearMiss\n",
        "\n",
        "from sklearn.tree import DecisionTreeClassifier\n",
        "from sklearn.metrics import accuracy_score, precision_score, recall_score, f1_score\n",
        "from sklearn.model_selection import StratifiedKFold\n",
        "from imblearn.under_sampling import NearMiss\n",
        "from sklearn.model_selection import train_test_split, cross_validate\n",
        "\n",
        "x = dados.drop('inadimplente', axis=1)\n",
        "y = dados['inadimplente']\n",
        "seed = 123\n",
        "\n",
        "x_treino, x_test, y_treino, y_test = train_test_split(x, y, test_size=0.15, stratify=y, random_state=seed)\n",
        "\n",
        "#pipeline - balanceamento e validaçao\n",
        "from imblearn.pipeline import Pipeline as imbpipeline\n",
        "\n",
        "nm = NearMiss()\n",
        "modelo = DecisionTreeClassifier(max_depth=10, random_state=seed)\n",
        "\n",
        "pipeline = imbpipeline([(\"balanceamento\", nm), (\"modelo\", modelo)])\n",
        "\n",
        "skf = StratifiedKFold(n_splits=5, shuffle=True, random_state=seed)\n",
        "scv = cross_validate(pipeline, x_treino, y_treino, cv=skf, scoring=[\"recall\",\"precision\",\"accuracy\",\"f1\"])\n",
        "\n",
        "def media_desvio(metrica):\n",
        "  media = scv[metrica].mean()\n",
        "  devio_padrao = round(scv[metrica].std(),4)\n",
        "  # print(f\"{metrica}: {media} +- {devio_padrao}\")\n",
        "  print(f\"{metrica} média: {round(media - 2*devio_padrao,3)} - {round(media + 2*devio_padrao,3)}\")\n",
        "\n",
        "print(\"-------Teste validação cuzada-------\")\n",
        "media_desvio(\"test_accuracy\")\n",
        "media_desvio(\"test_recall\")\n",
        "media_desvio(\"test_precision\")\n",
        "media_desvio(\"test_f1\")\n",
        "\n",
        "# Treinando o modelo para utilização\n",
        "x_balanceado, y_balanceado = nm.fit_resample(x_treino, y_treino)\n",
        "modelo_final = modelo.fit(x_balanceado, y_balanceado)\n",
        "y_pred = modelo_final.predict(x_test)\n",
        "\n",
        "# Teste do modelo vinal com os dados de teste\n",
        "print(\"\\n-------Teste modelo final-----------\")\n",
        "print(f'Acurácia: {round(accuracy_score(y_test, y_pred),3)}')\n",
        "print(f'Precisão: {round(precision_score(y_test, y_pred),3)}')\n",
        "print(f'Recall:   {round(recall_score(y_test, y_pred),3)}')\n",
        "print(f'F1-score: {round(f1_score(y_test, y_pred),3)}\\n')\n",
        "\n",
        "matrix = confusion_matrix(y_test, y_pred)\n",
        "matrix\n",
        "\n",
        "from sklearn.metrics import ConfusionMatrixDisplay\n",
        "grafico_matrix = ConfusionMatrixDisplay(matrix, display_labels=modelo_final.classes_)\n",
        "grafico_matrix.plot()"
      ],
      "metadata": {
        "id": "aW3EgN-MyT98",
        "colab": {
          "base_uri": "https://localhost:8080/",
          "height": 675
        },
        "outputId": "a8bf5d0f-72a5-4290-f057-a32add84f2ca"
      },
      "execution_count": 14,
      "outputs": [
        {
          "output_type": "stream",
          "name": "stdout",
          "text": [
            "-------Teste validação cuzada-------\n",
            "test_accuracy média: 0.26 - 0.291\n",
            "test_recall média: 0.735 - 0.801\n",
            "test_precision média: 0.084 - 0.09\n",
            "test_f1 média: 0.15 - 0.162\n",
            "\n",
            "-------Teste modelo final-----------\n",
            "Acurácia: 0.274\n",
            "Precisão: 0.088\n",
            "Recall:   0.778\n",
            "F1-score: 0.157\n",
            "\n"
          ]
        },
        {
          "output_type": "execute_result",
          "data": {
            "text/plain": [
              "<sklearn.metrics._plot.confusion_matrix.ConfusionMatrixDisplay at 0x78d0cbc55f10>"
            ]
          },
          "metadata": {},
          "execution_count": 14
        },
        {
          "output_type": "display_data",
          "data": {
            "text/plain": [
              "<Figure size 640x480 with 2 Axes>"
            ],
            "image/png": "[encoded data removed]"
          },
          "metadata": {}
        }
      ]
    },
    {
      "cell_type": "code",
      "source": [
        "# DecisionTreeClassifier SmotEEN\n",
        "\n",
        "from sklearn.tree import DecisionTreeClassifier\n",
        "from sklearn.metrics import accuracy_score, precision_score, recall_score, f1_score\n",
        "from sklearn.model_selection import StratifiedKFold\n",
        "from imblearn.over_sampling import SMOTEN\n",
        "from sklearn.model_selection import train_test_split, cross_validate\n",
        "\n",
        "x = dados.drop('inadimplente', axis=1)\n",
        "y = dados['inadimplente']\n",
        "seed = 123\n",
        "\n",
        "x_treino, x_test, y_treino, y_test = train_test_split(x, y, test_size=0.15, stratify=y, random_state=seed)\n",
        "\n",
        "#pipeline - balanceamento e validaçao\n",
        "from imblearn.pipeline import Pipeline as imbpipeline\n",
        "\n",
        "sme = SMOTEN()\n",
        "modelo = DecisionTreeClassifier(max_depth=10, random_state=seed)\n",
        "\n",
        "pipeline = imbpipeline([(\"balanceamento\", nm), (\"modelo\", modelo)])\n",
        "\n",
        "skf = StratifiedKFold(n_splits=5, shuffle=True, random_state=seed)\n",
        "scv = cross_validate(pipeline, x_treino, y_treino, cv=skf, scoring=[\"recall\",\"precision\",\"accuracy\",\"f1\"])\n",
        "\n",
        "def media_desvio(metrica):\n",
        "  media = scv[metrica].mean()\n",
        "  devio_padrao = round(scv[metrica].std(),4)\n",
        "  # print(f\"{metrica}: {media} +- {devio_padrao}\")\n",
        "  print(f\"{metrica} média: {round(media - 2*devio_padrao,3)} - {round(media + 2*devio_padrao,3)}\")\n",
        "\n",
        "print(\"-------Teste validação cuzada-------\")\n",
        "media_desvio(\"test_accuracy\")\n",
        "media_desvio(\"test_recall\")\n",
        "media_desvio(\"test_precision\")\n",
        "media_desvio(\"test_f1\")\n",
        "\n",
        "# Treinando o modelo para utilização\n",
        "x_balanceado, y_balanceado = sme.fit_resample(x_treino, y_treino)\n",
        "modelo_final = modelo.fit(x_balanceado, y_balanceado)\n",
        "y_pred = modelo_final.predict(x_test)\n",
        "\n",
        "# Teste do modelo vinal com os dados de teste\n",
        "print(\"\\n-------Teste modelo final-----------\")\n",
        "print(f'Acurácia: {round(accuracy_score(y_test, y_pred),3)}')\n",
        "print(f'Precisão: {round(precision_score(y_test, y_pred),3)}')\n",
        "print(f'Recall:   {round(recall_score(y_test, y_pred),3)}')\n",
        "print(f'F1-score: {round(f1_score(y_test, y_pred),3)}\\n')\n",
        "\n",
        "matrix = confusion_matrix(y_test, y_pred)\n",
        "matrix\n",
        "\n",
        "from sklearn.metrics import ConfusionMatrixDisplay\n",
        "grafico_matrix = ConfusionMatrixDisplay(matrix, display_labels=modelo_final.classes_)\n",
        "grafico_matrix.plot()"
      ],
      "metadata": {
        "id": "Qa1z8HJlFeUD",
        "colab": {
          "base_uri": "https://localhost:8080/",
          "height": 675
        },
        "outputId": "402890ac-fafc-453e-89e0-0ed8d36c1da1"
      },
      "execution_count": 15,
      "outputs": [
        {
          "output_type": "stream",
          "name": "stdout",
          "text": [
            "-------Teste validação cuzada-------\n",
            "test_accuracy média: 0.26 - 0.291\n",
            "test_recall média: 0.735 - 0.801\n",
            "test_precision média: 0.084 - 0.09\n",
            "test_f1 média: 0.15 - 0.162\n",
            "\n",
            "-------Teste modelo final-----------\n",
            "Acurácia: 0.834\n",
            "Precisão: 0.188\n",
            "Recall:   0.272\n",
            "F1-score: 0.222\n",
            "\n"
          ]
        },
        {
          "output_type": "execute_result",
          "data": {
            "text/plain": [
              "<sklearn.metrics._plot.confusion_matrix.ConfusionMatrixDisplay at 0x78d0bca79c90>"
            ]
          },
          "metadata": {},
          "execution_count": 15
        },
        {
          "output_type": "display_data",
          "data": {
            "text/plain": [
              "<Figure size 640x480 with 2 Axes>"
            ],
            "image/png": "[encoded data removed]"
          },
          "metadata": {}
        }
      ]
    },
    {
      "cell_type": "markdown",
      "source": [
        "## Kneighbors"
      ],
      "metadata": {
        "id": "3uqiYd_3IFp6"
      }
    },
    {
      "cell_type": "code",
      "source": [
        "# KNeighborsClassifier Smote\n",
        "\n",
        "from sklearn.neighbors import KNeighborsClassifier\n",
        "from sklearn.metrics import accuracy_score, precision_score, recall_score, f1_score\n",
        "from sklearn.model_selection import StratifiedKFold\n",
        "from imblearn.over_sampling import SMOTE\n",
        "from sklearn.model_selection import train_test_split, cross_validate\n",
        "\n",
        "x = dados.drop('inadimplente', axis=1)\n",
        "y = dados['inadimplente']\n",
        "seed = 123\n",
        "\n",
        "x_treino, x_test, y_treino, y_test = train_test_split(x, y, test_size=0.15, stratify=y, random_state=seed)\n",
        "\n",
        "#pipeline - balanceamento e validaçao\n",
        "from imblearn.pipeline import Pipeline as imbpipeline\n",
        "\n",
        "sm = SMOTE(random_state=seed)\n",
        "modelo = KNeighborsClassifier()\n",
        "\n",
        "pipeline = imbpipeline([(\"balanceamento\", sm), (\"modelo\", modelo)])\n",
        "\n",
        "skf = StratifiedKFold(n_splits=5, shuffle=True, random_state=seed)\n",
        "scv = cross_validate(pipeline, x_treino, y_treino, cv=skf, scoring=[\"recall\",\"precision\",\"accuracy\",\"f1\"])\n",
        "\n",
        "def media_desvio(metrica):\n",
        "  media = scv[metrica].mean()\n",
        "  devio_padrao = round(scv[metrica].std(),4)\n",
        "  # print(f\"{metrica}: {media} +- {devio_padrao}\")\n",
        "  print(f\"{metrica} média: {round(media - 2*devio_padrao,3)} - {round(media + 2*devio_padrao,3)}\")\n",
        "\n",
        "print(\"-------Teste validação cuzada-------\")\n",
        "media_desvio(\"test_accuracy\")\n",
        "media_desvio(\"test_recall\")\n",
        "media_desvio(\"test_precision\")\n",
        "media_desvio(\"test_f1\")\n",
        "\n",
        "# Treinando o modelo para utilização\n",
        "x_balanceado, y_balanceado = sm.fit_resample(x_treino, y_treino)\n",
        "modelo_final = modelo.fit(x_balanceado, y_balanceado)\n",
        "y_pred = modelo_final.predict(x_test)\n",
        "\n",
        "# Teste do modelo vinal com os dados de teste\n",
        "print(\"\\n-------Teste modelo final-----------\")\n",
        "print(f'Acurácia: {round(accuracy_score(y_test, y_pred),3)}')\n",
        "print(f'Precisão: {round(precision_score(y_test, y_pred),3)}')\n",
        "print(f'Recall:   {round(recall_score(y_test, y_pred),3)}')\n",
        "print(f'F1-score: {round(f1_score(y_test, y_pred),3)}\\n')\n",
        "\n",
        "matrix = confusion_matrix(y_test, y_pred)\n",
        "matrix\n",
        "\n",
        "from sklearn.metrics import ConfusionMatrixDisplay\n",
        "grafico_matrix = ConfusionMatrixDisplay(matrix, display_labels=modelo_final.classes_)\n",
        "grafico_matrix.plot()"
      ],
      "metadata": {
        "id": "ktBOakxiIEfp",
        "colab": {
          "base_uri": "https://localhost:8080/",
          "height": 675
        },
        "outputId": "156ffbf1-b8f3-4abe-b03e-119e5580f8ed"
      },
      "execution_count": 16,
      "outputs": [
        {
          "output_type": "stream",
          "name": "stdout",
          "text": [
            "-------Teste validação cuzada-------\n",
            "test_accuracy média: 0.67 - 0.682\n",
            "test_recall média: 0.306 - 0.397\n",
            "test_precision média: 0.091 - 0.115\n",
            "test_f1 média: 0.14 - 0.178\n",
            "\n",
            "-------Teste modelo final-----------\n",
            "Acurácia: 0.683\n",
            "Precisão: 0.11\n",
            "Recall:   0.373\n",
            "F1-score: 0.17\n",
            "\n"
          ]
        },
        {
          "output_type": "execute_result",
          "data": {
            "text/plain": [
              "<sklearn.metrics._plot.confusion_matrix.ConfusionMatrixDisplay at 0x78d0cbc80810>"
            ]
          },
          "metadata": {},
          "execution_count": 16
        },
        {
          "output_type": "display_data",
          "data": {
            "text/plain": [
              "<Figure size 640x480 with 2 Axes>"
            ],
            "image/png": "[encoded data removed]"
          },
          "metadata": {}
        }
      ]
    },
    {
      "cell_type": "code",
      "source": [
        "# KNeighborsClassifier NearMiss\n",
        "\n",
        "from sklearn.neighbors import KNeighborsClassifier\n",
        "from sklearn.metrics import accuracy_score, precision_score, recall_score, f1_score\n",
        "from sklearn.model_selection import StratifiedKFold\n",
        "from imblearn.under_sampling import NearMiss\n",
        "from sklearn.model_selection import train_test_split, cross_validate\n",
        "\n",
        "x = dados.drop('inadimplente', axis=1)\n",
        "y = dados['inadimplente']\n",
        "seed = 123\n",
        "\n",
        "x_treino, x_test, y_treino, y_test = train_test_split(x, y, test_size=0.15, stratify=y, random_state=seed)\n",
        "\n",
        "#pipeline - balanceamento e validaçao\n",
        "from imblearn.pipeline import Pipeline as imbpipeline\n",
        "\n",
        "nm = NearMiss()\n",
        "modelo = KNeighborsClassifier()\n",
        "\n",
        "pipeline = imbpipeline([(\"balanceamento\", nm), (\"modelo\", modelo)])\n",
        "\n",
        "skf = StratifiedKFold(n_splits=5, shuffle=True, random_state=seed)\n",
        "scv = cross_validate(pipeline, x_treino, y_treino, cv=skf, scoring=[\"recall\",\"precision\",\"accuracy\",\"f1\"])\n",
        "\n",
        "def media_desvio(metrica):\n",
        "  media = scv[metrica].mean()\n",
        "  devio_padrao = round(scv[metrica].std(),4)\n",
        "  # print(f\"{metrica}: {media} +- {devio_padrao}\")\n",
        "  print(f\"{metrica} média: {round(media - 2*devio_padrao,3)} - {round(media + 2*devio_padrao,3)}\")\n",
        "\n",
        "print(\"-------Teste validação cuzada-------\")\n",
        "media_desvio(\"test_accuracy\")\n",
        "media_desvio(\"test_recall\")\n",
        "media_desvio(\"test_precision\")\n",
        "media_desvio(\"test_f1\")\n",
        "\n",
        "# Treinando o modelo para utilização\n",
        "x_balanceado, y_balanceado = nm.fit_resample(x_treino, y_treino)\n",
        "modelo_final = modelo.fit(x_balanceado, y_balanceado)\n",
        "y_pred = modelo_final.predict(x_test)\n",
        "\n",
        "# Teste do modelo vinal com os dados de teste\n",
        "print(\"\\n-------Teste modelo final-----------\")\n",
        "print(f'Acurácia: {round(accuracy_score(y_test, y_pred),3)}')\n",
        "print(f'Precisão: {round(precision_score(y_test, y_pred),3)}')\n",
        "print(f'Recall:   {round(recall_score(y_test, y_pred),3)}')\n",
        "print(f'F1-score: {round(f1_score(y_test, y_pred),3)}\\n')\n",
        "\n",
        "matrix = confusion_matrix(y_test, y_pred)\n",
        "matrix\n",
        "\n",
        "from sklearn.metrics import ConfusionMatrixDisplay\n",
        "grafico_matrix = ConfusionMatrixDisplay(matrix, display_labels=modelo_final.classes_)\n",
        "grafico_matrix.plot()"
      ],
      "metadata": {
        "id": "1Tq5axSKDIHE",
        "colab": {
          "base_uri": "https://localhost:8080/",
          "height": 675
        },
        "outputId": "e1bd68fd-0d58-4dbd-a4dc-5f6c7492acfc"
      },
      "execution_count": 17,
      "outputs": [
        {
          "output_type": "stream",
          "name": "stdout",
          "text": [
            "-------Teste validação cuzada-------\n",
            "test_accuracy média: 0.227 - 0.256\n",
            "test_recall média: 0.749 - 0.807\n",
            "test_precision média: 0.081 - 0.087\n",
            "test_f1 média: 0.147 - 0.157\n",
            "\n",
            "-------Teste modelo final-----------\n",
            "Acurácia: 0.243\n",
            "Precisão: 0.085\n",
            "Recall:   0.785\n",
            "F1-score: 0.153\n",
            "\n"
          ]
        },
        {
          "output_type": "execute_result",
          "data": {
            "text/plain": [
              "<sklearn.metrics._plot.confusion_matrix.ConfusionMatrixDisplay at 0x78d0cbcc6510>"
            ]
          },
          "metadata": {},
          "execution_count": 17
        },
        {
          "output_type": "display_data",
          "data": {
            "text/plain": [
              "<Figure size 640x480 with 2 Axes>"
            ],
            "image/png": "[encoded data removed]"
          },
          "metadata": {}
        }
      ]
    },
    {
      "cell_type": "code",
      "source": [
        "# KNeighborsClassifier SmotEEN\n",
        "\n",
        "from sklearn.neighbors import KNeighborsClassifier\n",
        "from sklearn.metrics import accuracy_score, precision_score, recall_score, f1_score\n",
        "from sklearn.model_selection import StratifiedKFold\n",
        "from imblearn.over_sampling import SMOTEN\n",
        "from sklearn.model_selection import train_test_split, cross_validate\n",
        "\n",
        "x = dados.drop('inadimplente', axis=1)\n",
        "y = dados['inadimplente']\n",
        "seed = 123\n",
        "\n",
        "x_treino, x_test, y_treino, y_test = train_test_split(x, y, test_size=0.15, stratify=y, random_state=seed)\n",
        "\n",
        "#pipeline - balanceamento e validaçao\n",
        "from imblearn.pipeline import Pipeline as imbpipeline\n",
        "\n",
        "sme = SMOTEN()\n",
        "modelo = KNeighborsClassifier()\n",
        "\n",
        "pipeline = imbpipeline([(\"balanceamento\", nm), (\"modelo\", modelo)])\n",
        "\n",
        "skf = StratifiedKFold(n_splits=5, shuffle=True, random_state=seed)\n",
        "scv = cross_validate(pipeline, x_treino, y_treino, cv=skf, scoring=[\"recall\",\"precision\",\"accuracy\",\"f1\"])\n",
        "\n",
        "def media_desvio(metrica):\n",
        "  media = scv[metrica].mean()\n",
        "  devio_padrao = round(scv[metrica].std(),4)\n",
        "  # print(f\"{metrica}: {media} +- {devio_padrao}\")\n",
        "  print(f\"{metrica} média: {round(media - 2*devio_padrao,3)} - {round(media + 2*devio_padrao,3)}\")\n",
        "\n",
        "print(\"-------Teste validação cuzada-------\")\n",
        "media_desvio(\"test_accuracy\")\n",
        "media_desvio(\"test_recall\")\n",
        "media_desvio(\"test_precision\")\n",
        "media_desvio(\"test_f1\")\n",
        "\n",
        "# Treinando o modelo para utilização\n",
        "x_balanceado, y_balanceado = sme.fit_resample(x_treino, y_treino)\n",
        "modelo_final = modelo.fit(x_balanceado, y_balanceado)\n",
        "y_pred = modelo_final.predict(x_test)\n",
        "\n",
        "# Teste do modelo vinal com os dados de teste\n",
        "print(\"\\n-------Teste modelo final-----------\")\n",
        "print(f'Acurácia: {round(accuracy_score(y_test, y_pred),3)}')\n",
        "print(f'Precisão: {round(precision_score(y_test, y_pred),3)}')\n",
        "print(f'Recall:   {round(recall_score(y_test, y_pred),3)}')\n",
        "print(f'F1-score: {round(f1_score(y_test, y_pred),3)}\\n')\n",
        "\n",
        "matrix = confusion_matrix(y_test, y_pred)\n",
        "matrix\n",
        "\n",
        "from sklearn.metrics import ConfusionMatrixDisplay\n",
        "grafico_matrix = ConfusionMatrixDisplay(matrix, display_labels=modelo_final.classes_)\n",
        "grafico_matrix.plot()"
      ],
      "metadata": {
        "id": "NKF1y6z_JO2i",
        "colab": {
          "base_uri": "https://localhost:8080/",
          "height": 675
        },
        "outputId": "bec3a7a2-8603-4552-ab0b-84d2683be4df"
      },
      "execution_count": 18,
      "outputs": [
        {
          "output_type": "stream",
          "name": "stdout",
          "text": [
            "-------Teste validação cuzada-------\n",
            "test_accuracy média: 0.227 - 0.256\n",
            "test_recall média: 0.749 - 0.807\n",
            "test_precision média: 0.081 - 0.087\n",
            "test_f1 média: 0.147 - 0.157\n",
            "\n",
            "-------Teste modelo final-----------\n",
            "Acurácia: 0.82\n",
            "Precisão: 0.112\n",
            "Recall:   0.154\n",
            "F1-score: 0.13\n",
            "\n"
          ]
        },
        {
          "output_type": "execute_result",
          "data": {
            "text/plain": [
              "<sklearn.metrics._plot.confusion_matrix.ConfusionMatrixDisplay at 0x78d0bcac7750>"
            ]
          },
          "metadata": {},
          "execution_count": 18
        },
        {
          "output_type": "display_data",
          "data": {
            "text/plain": [
              "<Figure size 640x480 with 2 Axes>"
            ],
            "image/png": "[encoded data removed]"
          },
          "metadata": {}
        }
      ]
    },
    {
      "cell_type": "markdown",
      "source": [
        "## logisticRegression"
      ],
      "metadata": {
        "id": "KEAyv95vJh46"
      }
    },
    {
      "cell_type": "code",
      "source": [
        "# LogisticRegression Smote\n",
        "\n",
        "from sklearn.linear_model import LogisticRegression\n",
        "from sklearn.metrics import accuracy_score, precision_score, recall_score, f1_score\n",
        "from sklearn.model_selection import StratifiedKFold\n",
        "from imblearn.over_sampling import SMOTE\n",
        "from sklearn.model_selection import train_test_split, cross_validate\n",
        "\n",
        "x = dados.drop('inadimplente', axis=1)\n",
        "y = dados['inadimplente']\n",
        "seed = 123\n",
        "\n",
        "x_treino, x_test, y_treino, y_test = train_test_split(x, y, test_size=0.15, stratify=y, random_state=seed)\n",
        "\n",
        "#pipeline - balanceamento e validaçao\n",
        "from imblearn.pipeline import Pipeline as imbpipeline\n",
        "\n",
        "sm = SMOTE(random_state=seed)\n",
        "modelo = LogisticRegression(random_state=seed)\n",
        "\n",
        "pipeline = imbpipeline([(\"balanceamento\", sm), (\"modelo\", modelo)])\n",
        "\n",
        "skf = StratifiedKFold(n_splits=5, shuffle=True, random_state=seed)\n",
        "scv = cross_validate(pipeline, x_treino, y_treino, cv=skf, scoring=[\"recall\",\"precision\",\"accuracy\",\"f1\"])\n",
        "\n",
        "def media_desvio(metrica):\n",
        "  media = scv[metrica].mean()\n",
        "  devio_padrao = round(scv[metrica].std(),4)\n",
        "  # print(f\"{metrica}: {media} +- {devio_padrao}\")\n",
        "  print(f\"{metrica} média: {round(media - 2*devio_padrao,3)} - {round(media + 2*devio_padrao,3)}\")\n",
        "\n",
        "print(\"-------Teste validação cuzada-------\")\n",
        "media_desvio(\"test_accuracy\")\n",
        "media_desvio(\"test_recall\")\n",
        "media_desvio(\"test_precision\")\n",
        "media_desvio(\"test_f1\")\n",
        "\n",
        "# Treinando o modelo para utilização\n",
        "x_balanceado, y_balanceado = sm.fit_resample(x_treino, y_treino)\n",
        "modelo_final = modelo.fit(x_balanceado, y_balanceado)\n",
        "y_pred = modelo_final.predict(x_test)\n",
        "\n",
        "# Teste do modelo vinal com os dados de teste\n",
        "print(\"\\n-------Teste modelo final-----------\")\n",
        "print(f'Acurácia: {round(accuracy_score(y_test, y_pred),3)}')\n",
        "print(f'Precisão: {round(precision_score(y_test, y_pred),3)}')\n",
        "print(f'Recall:   {round(recall_score(y_test, y_pred),3)}')\n",
        "print(f'F1-score: {round(f1_score(y_test, y_pred),3)}\\n')\n",
        "\n",
        "matrix = confusion_matrix(y_test, y_pred)\n",
        "matrix\n",
        "\n",
        "from sklearn.metrics import ConfusionMatrixDisplay\n",
        "grafico_matrix = ConfusionMatrixDisplay(matrix, display_labels=modelo_final.classes_)\n",
        "grafico_matrix.plot()"
      ],
      "metadata": {
        "id": "JnPoCUPzJl-J",
        "colab": {
          "base_uri": "https://localhost:8080/",
          "height": 1000
        },
        "outputId": "bd8ddfb6-093e-43ee-c6fc-840eeb0443c7"
      },
      "execution_count": 19,
      "outputs": [
        {
          "output_type": "stream",
          "name": "stderr",
          "text": [
            "/usr/local/lib/python3.11/dist-packages/sklearn/linear_model/_logistic.py:465: ConvergenceWarning: lbfgs failed to converge (status=1):\n",
            "STOP: TOTAL NO. OF ITERATIONS REACHED LIMIT.\n",
            "\n",
            "Increase the number of iterations (max_iter) or scale the data as shown in:\n",
            "    https://scikit-learn.org/stable/modules/preprocessing.html\n",
            "Please also refer to the documentation for alternative solver options:\n",
            "    https://scikit-learn.org/stable/modules/linear_model.html#logistic-regression\n",
            "  n_iter_i = _check_optimize_result(\n",
            "/usr/local/lib/python3.11/dist-packages/sklearn/linear_model/_logistic.py:465: ConvergenceWarning: lbfgs failed to converge (status=1):\n",
            "STOP: TOTAL NO. OF ITERATIONS REACHED LIMIT.\n",
            "\n",
            "Increase the number of iterations (max_iter) or scale the data as shown in:\n",
            "    https://scikit-learn.org/stable/modules/preprocessing.html\n",
            "Please also refer to the documentation for alternative solver options:\n",
            "    https://scikit-learn.org/stable/modules/linear_model.html#logistic-regression\n",
            "  n_iter_i = _check_optimize_result(\n",
            "/usr/local/lib/python3.11/dist-packages/sklearn/linear_model/_logistic.py:465: ConvergenceWarning: lbfgs failed to converge (status=1):\n",
            "STOP: TOTAL NO. OF ITERATIONS REACHED LIMIT.\n",
            "\n",
            "Increase the number of iterations (max_iter) or scale the data as shown in:\n",
            "    https://scikit-learn.org/stable/modules/preprocessing.html\n",
            "Please also refer to the documentation for alternative solver options:\n",
            "    https://scikit-learn.org/stable/modules/linear_model.html#logistic-regression\n",
            "  n_iter_i = _check_optimize_result(\n",
            "/usr/local/lib/python3.11/dist-packages/sklearn/linear_model/_logistic.py:465: ConvergenceWarning: lbfgs failed to converge (status=1):\n",
            "STOP: TOTAL NO. OF ITERATIONS REACHED LIMIT.\n",
            "\n",
            "Increase the number of iterations (max_iter) or scale the data as shown in:\n",
            "    https://scikit-learn.org/stable/modules/preprocessing.html\n",
            "Please also refer to the documentation for alternative solver options:\n",
            "    https://scikit-learn.org/stable/modules/linear_model.html#logistic-regression\n",
            "  n_iter_i = _check_optimize_result(\n",
            "/usr/local/lib/python3.11/dist-packages/sklearn/linear_model/_logistic.py:465: ConvergenceWarning: lbfgs failed to converge (status=1):\n",
            "STOP: TOTAL NO. OF ITERATIONS REACHED LIMIT.\n",
            "\n",
            "Increase the number of iterations (max_iter) or scale the data as shown in:\n",
            "    https://scikit-learn.org/stable/modules/preprocessing.html\n",
            "Please also refer to the documentation for alternative solver options:\n",
            "    https://scikit-learn.org/stable/modules/linear_model.html#logistic-regression\n",
            "  n_iter_i = _check_optimize_result(\n"
          ]
        },
        {
          "output_type": "stream",
          "name": "stdout",
          "text": [
            "-------Teste validação cuzada-------\n",
            "test_accuracy média: 0.525 - 0.57\n",
            "test_recall média: 0.58 - 0.661\n",
            "test_precision média: 0.106 - 0.123\n",
            "test_f1 média: 0.179 - 0.207\n",
            "\n",
            "-------Teste modelo final-----------\n",
            "Acurácia: 0.543\n",
            "Precisão: 0.111\n",
            "Recall:   0.604\n",
            "F1-score: 0.188\n",
            "\n"
          ]
        },
        {
          "output_type": "stream",
          "name": "stderr",
          "text": [
            "/usr/local/lib/python3.11/dist-packages/sklearn/linear_model/_logistic.py:465: ConvergenceWarning: lbfgs failed to converge (status=1):\n",
            "STOP: TOTAL NO. OF ITERATIONS REACHED LIMIT.\n",
            "\n",
            "Increase the number of iterations (max_iter) or scale the data as shown in:\n",
            "    https://scikit-learn.org/stable/modules/preprocessing.html\n",
            "Please also refer to the documentation for alternative solver options:\n",
            "    https://scikit-learn.org/stable/modules/linear_model.html#logistic-regression\n",
            "  n_iter_i = _check_optimize_result(\n"
          ]
        },
        {
          "output_type": "execute_result",
          "data": {
            "text/plain": [
              "<sklearn.metrics._plot.confusion_matrix.ConfusionMatrixDisplay at 0x78d0b4f45e90>"
            ]
          },
          "metadata": {},
          "execution_count": 19
        },
        {
          "output_type": "display_data",
          "data": {
            "text/plain": [
              "<Figure size 640x480 with 2 Axes>"
            ],
            "image/png": "[encoded data removed]"
          },
          "metadata": {}
        }
      ]
    },
    {
      "cell_type": "code",
      "source": [
        "# LogisticRegression NearMiss\n",
        "\n",
        "from sklearn.linear_model import LogisticRegression\n",
        "from sklearn.metrics import accuracy_score, precision_score, recall_score, f1_score\n",
        "from sklearn.model_selection import StratifiedKFold\n",
        "from imblearn.under_sampling import NearMiss\n",
        "from sklearn.model_selection import train_test_split, cross_validate\n",
        "\n",
        "x = dados.drop('inadimplente', axis=1)\n",
        "y = dados['inadimplente']\n",
        "seed = 123\n",
        "\n",
        "x_treino, x_test, y_treino, y_test = train_test_split(x, y, test_size=0.15, stratify=y, random_state=seed)\n",
        "\n",
        "#pipeline - balanceamento e validaçao\n",
        "from imblearn.pipeline import Pipeline as imbpipeline\n",
        "\n",
        "nm = NearMiss()\n",
        "modelo = LogisticRegression(random_state=seed)\n",
        "\n",
        "pipeline = imbpipeline([(\"balanceamento\", nm), (\"modelo\", modelo)])\n",
        "\n",
        "skf = StratifiedKFold(n_splits=5, shuffle=True, random_state=seed)\n",
        "scv = cross_validate(pipeline, x_treino, y_treino, cv=skf, scoring=[\"recall\",\"precision\",\"accuracy\",\"f1\"])\n",
        "\n",
        "def media_desvio(metrica):\n",
        "  media = scv[metrica].mean()\n",
        "  devio_padrao = round(scv[metrica].std(),4)\n",
        "  # print(f\"{metrica}: {media} +- {devio_padrao}\")\n",
        "  print(f\"{metrica} média: {round(media - 2*devio_padrao,3)} - {round(media + 2*devio_padrao,3)}\")\n",
        "\n",
        "print(\"-------Teste validação cuzada-------\")\n",
        "media_desvio(\"test_accuracy\")\n",
        "media_desvio(\"test_recall\")\n",
        "media_desvio(\"test_precision\")\n",
        "media_desvio(\"test_f1\")\n",
        "\n",
        "# Treinando o modelo para utilização\n",
        "x_balanceado, y_balanceado = nm.fit_resample(x_treino, y_treino)\n",
        "modelo_final = modelo.fit(x_balanceado, y_balanceado)\n",
        "y_pred = modelo_final.predict(x_test)\n",
        "\n",
        "# Teste do modelo vinal com os dados de teste\n",
        "print(\"\\n-------Teste modelo final-----------\")\n",
        "print(f'Acurácia: {round(accuracy_score(y_test, y_pred),3)}')\n",
        "print(f'Precisão: {round(precision_score(y_test, y_pred),3)}')\n",
        "print(f'Recall:   {round(recall_score(y_test, y_pred),3)}')\n",
        "print(f'F1-score: {round(f1_score(y_test, y_pred),3)}\\n')\n",
        "\n",
        "matrix = confusion_matrix(y_test, y_pred)\n",
        "matrix\n",
        "\n",
        "from sklearn.metrics import ConfusionMatrixDisplay\n",
        "grafico_matrix = ConfusionMatrixDisplay(matrix, display_labels=modelo_final.classes_)\n",
        "grafico_matrix.plot()"
      ],
      "metadata": {
        "id": "vfaiW0gzJlRR",
        "colab": {
          "base_uri": "https://localhost:8080/",
          "height": 1000
        },
        "outputId": "894023e9-70c4-458b-8d1b-9881dbea60c7"
      },
      "execution_count": 20,
      "outputs": [
        {
          "output_type": "stream",
          "name": "stderr",
          "text": [
            "/usr/local/lib/python3.11/dist-packages/sklearn/linear_model/_logistic.py:465: ConvergenceWarning: lbfgs failed to converge (status=1):\n",
            "STOP: TOTAL NO. OF ITERATIONS REACHED LIMIT.\n",
            "\n",
            "Increase the number of iterations (max_iter) or scale the data as shown in:\n",
            "    https://scikit-learn.org/stable/modules/preprocessing.html\n",
            "Please also refer to the documentation for alternative solver options:\n",
            "    https://scikit-learn.org/stable/modules/linear_model.html#logistic-regression\n",
            "  n_iter_i = _check_optimize_result(\n",
            "/usr/local/lib/python3.11/dist-packages/sklearn/linear_model/_logistic.py:465: ConvergenceWarning: lbfgs failed to converge (status=1):\n",
            "STOP: TOTAL NO. OF ITERATIONS REACHED LIMIT.\n",
            "\n",
            "Increase the number of iterations (max_iter) or scale the data as shown in:\n",
            "    https://scikit-learn.org/stable/modules/preprocessing.html\n",
            "Please also refer to the documentation for alternative solver options:\n",
            "    https://scikit-learn.org/stable/modules/linear_model.html#logistic-regression\n",
            "  n_iter_i = _check_optimize_result(\n",
            "/usr/local/lib/python3.11/dist-packages/sklearn/linear_model/_logistic.py:465: ConvergenceWarning: lbfgs failed to converge (status=1):\n",
            "STOP: TOTAL NO. OF ITERATIONS REACHED LIMIT.\n",
            "\n",
            "Increase the number of iterations (max_iter) or scale the data as shown in:\n",
            "    https://scikit-learn.org/stable/modules/preprocessing.html\n",
            "Please also refer to the documentation for alternative solver options:\n",
            "    https://scikit-learn.org/stable/modules/linear_model.html#logistic-regression\n",
            "  n_iter_i = _check_optimize_result(\n",
            "/usr/local/lib/python3.11/dist-packages/sklearn/linear_model/_logistic.py:465: ConvergenceWarning: lbfgs failed to converge (status=1):\n",
            "STOP: TOTAL NO. OF ITERATIONS REACHED LIMIT.\n",
            "\n",
            "Increase the number of iterations (max_iter) or scale the data as shown in:\n",
            "    https://scikit-learn.org/stable/modules/preprocessing.html\n",
            "Please also refer to the documentation for alternative solver options:\n",
            "    https://scikit-learn.org/stable/modules/linear_model.html#logistic-regression\n",
            "  n_iter_i = _check_optimize_result(\n",
            "/usr/local/lib/python3.11/dist-packages/sklearn/linear_model/_logistic.py:465: ConvergenceWarning: lbfgs failed to converge (status=1):\n",
            "STOP: TOTAL NO. OF ITERATIONS REACHED LIMIT.\n",
            "\n",
            "Increase the number of iterations (max_iter) or scale the data as shown in:\n",
            "    https://scikit-learn.org/stable/modules/preprocessing.html\n",
            "Please also refer to the documentation for alternative solver options:\n",
            "    https://scikit-learn.org/stable/modules/linear_model.html#logistic-regression\n",
            "  n_iter_i = _check_optimize_result(\n"
          ]
        },
        {
          "output_type": "stream",
          "name": "stdout",
          "text": [
            "-------Teste validação cuzada-------\n",
            "test_accuracy média: 0.386 - 0.481\n",
            "test_recall média: 0.579 - 0.649\n",
            "test_precision média: 0.083 - 0.1\n",
            "test_f1 média: 0.146 - 0.173\n",
            "\n",
            "-------Teste modelo final-----------\n",
            "Acurácia: 0.45\n",
            "Precisão: 0.093\n",
            "Recall:   0.608\n",
            "F1-score: 0.162\n",
            "\n"
          ]
        },
        {
          "output_type": "stream",
          "name": "stderr",
          "text": [
            "/usr/local/lib/python3.11/dist-packages/sklearn/linear_model/_logistic.py:465: ConvergenceWarning: lbfgs failed to converge (status=1):\n",
            "STOP: TOTAL NO. OF ITERATIONS REACHED LIMIT.\n",
            "\n",
            "Increase the number of iterations (max_iter) or scale the data as shown in:\n",
            "    https://scikit-learn.org/stable/modules/preprocessing.html\n",
            "Please also refer to the documentation for alternative solver options:\n",
            "    https://scikit-learn.org/stable/modules/linear_model.html#logistic-regression\n",
            "  n_iter_i = _check_optimize_result(\n"
          ]
        },
        {
          "output_type": "execute_result",
          "data": {
            "text/plain": [
              "<sklearn.metrics._plot.confusion_matrix.ConfusionMatrixDisplay at 0x78d0cbda6910>"
            ]
          },
          "metadata": {},
          "execution_count": 20
        },
        {
          "output_type": "display_data",
          "data": {
            "text/plain": [
              "<Figure size 640x480 with 2 Axes>"
            ],
            "image/png": "[encoded data removed]"
          },
          "metadata": {}
        }
      ]
    },
    {
      "cell_type": "code",
      "source": [
        "# LogisticRegression SmotEEN\n",
        "\n",
        "from sklearn.linear_model import LogisticRegression\n",
        "from sklearn.model_selection import train_test_split, cross_validate\n",
        "from sklearn.metrics import accuracy_score, precision_score, recall_score, f1_score\n",
        "from sklearn.model_selection import StratifiedKFold\n",
        "from imblearn.over_sampling import SMOTEN\n",
        "\n",
        "x = dados.drop('inadimplente', axis=1)\n",
        "y = dados['inadimplente']\n",
        "seed = 123\n",
        "\n",
        "x_treino, x_test, y_treino, y_test = train_test_split(x, y, test_size=0.15, stratify=y, random_state=seed)\n",
        "\n",
        "#pipeline - balanceamento e validaçao\n",
        "from imblearn.pipeline import Pipeline as imbpipeline\n",
        "\n",
        "sme = SMOTEN()\n",
        "modelo = LogisticRegression(random_state=seed)\n",
        "\n",
        "pipeline = imbpipeline([(\"balanceamento\", nm), (\"modelo\", modelo)])\n",
        "\n",
        "skf = StratifiedKFold(n_splits=5, shuffle=True, random_state=seed)\n",
        "scv = cross_validate(pipeline, x_treino, y_treino, cv=skf, scoring=[\"recall\",\"precision\",\"accuracy\",\"f1\"])\n",
        "\n",
        "def media_desvio(metrica):\n",
        "  media = scv[metrica].mean()\n",
        "  devio_padrao = round(scv[metrica].std(),4)\n",
        "  # print(f\"{metrica}: {media} +- {devio_padrao}\")\n",
        "  print(f\"{metrica} média: {round(media - 2*devio_padrao,3)} - {round(media + 2*devio_padrao,3)}\")\n",
        "\n",
        "print(\"-------Teste validação cuzada-------\")\n",
        "media_desvio(\"test_accuracy\")\n",
        "media_desvio(\"test_recall\")\n",
        "media_desvio(\"test_precision\")\n",
        "media_desvio(\"test_f1\")\n",
        "\n",
        "# Treinando o modelo para utilização\n",
        "x_balanceado, y_balanceado = sme.fit_resample(x_treino, y_treino)\n",
        "modelo_final = modelo.fit(x_balanceado, y_balanceado)\n",
        "y_pred = modelo_final.predict(x_test)\n",
        "\n",
        "# Teste do modelo vinal com os dados de teste\n",
        "print(\"\\n-------Teste modelo final-----------\")\n",
        "print(f'Acurácia: {round(accuracy_score(y_test, y_pred),3)}')\n",
        "print(f'Precisão: {round(precision_score(y_test, y_pred),3)}')\n",
        "print(f'Recall:   {round(recall_score(y_test, y_pred),3)}')\n",
        "print(f'F1-score: {round(f1_score(y_test, y_pred),3)}\\n')\n",
        "\n",
        "matrix = confusion_matrix(y_test, y_pred)\n",
        "matrix\n",
        "\n",
        "from sklearn.metrics import ConfusionMatrixDisplay\n",
        "grafico_matrix = ConfusionMatrixDisplay(matrix, display_labels=modelo_final.classes_)\n",
        "grafico_matrix.plot()"
      ],
      "metadata": {
        "id": "2Guz7qS6M56Q",
        "colab": {
          "base_uri": "https://localhost:8080/",
          "height": 1000
        },
        "outputId": "d3ec81be-75f0-4f13-df53-61de1b483ee2"
      },
      "execution_count": 21,
      "outputs": [
        {
          "output_type": "stream",
          "name": "stderr",
          "text": [
            "/usr/local/lib/python3.11/dist-packages/sklearn/linear_model/_logistic.py:465: ConvergenceWarning: lbfgs failed to converge (status=1):\n",
            "STOP: TOTAL NO. OF ITERATIONS REACHED LIMIT.\n",
            "\n",
            "Increase the number of iterations (max_iter) or scale the data as shown in:\n",
            "    https://scikit-learn.org/stable/modules/preprocessing.html\n",
            "Please also refer to the documentation for alternative solver options:\n",
            "    https://scikit-learn.org/stable/modules/linear_model.html#logistic-regression\n",
            "  n_iter_i = _check_optimize_result(\n",
            "/usr/local/lib/python3.11/dist-packages/sklearn/linear_model/_logistic.py:465: ConvergenceWarning: lbfgs failed to converge (status=1):\n",
            "STOP: TOTAL NO. OF ITERATIONS REACHED LIMIT.\n",
            "\n",
            "Increase the number of iterations (max_iter) or scale the data as shown in:\n",
            "    https://scikit-learn.org/stable/modules/preprocessing.html\n",
            "Please also refer to the documentation for alternative solver options:\n",
            "    https://scikit-learn.org/stable/modules/linear_model.html#logistic-regression\n",
            "  n_iter_i = _check_optimize_result(\n",
            "/usr/local/lib/python3.11/dist-packages/sklearn/linear_model/_logistic.py:465: ConvergenceWarning: lbfgs failed to converge (status=1):\n",
            "STOP: TOTAL NO. OF ITERATIONS REACHED LIMIT.\n",
            "\n",
            "Increase the number of iterations (max_iter) or scale the data as shown in:\n",
            "    https://scikit-learn.org/stable/modules/preprocessing.html\n",
            "Please also refer to the documentation for alternative solver options:\n",
            "    https://scikit-learn.org/stable/modules/linear_model.html#logistic-regression\n",
            "  n_iter_i = _check_optimize_result(\n",
            "/usr/local/lib/python3.11/dist-packages/sklearn/linear_model/_logistic.py:465: ConvergenceWarning: lbfgs failed to converge (status=1):\n",
            "STOP: TOTAL NO. OF ITERATIONS REACHED LIMIT.\n",
            "\n",
            "Increase the number of iterations (max_iter) or scale the data as shown in:\n",
            "    https://scikit-learn.org/stable/modules/preprocessing.html\n",
            "Please also refer to the documentation for alternative solver options:\n",
            "    https://scikit-learn.org/stable/modules/linear_model.html#logistic-regression\n",
            "  n_iter_i = _check_optimize_result(\n",
            "/usr/local/lib/python3.11/dist-packages/sklearn/linear_model/_logistic.py:465: ConvergenceWarning: lbfgs failed to converge (status=1):\n",
            "STOP: TOTAL NO. OF ITERATIONS REACHED LIMIT.\n",
            "\n",
            "Increase the number of iterations (max_iter) or scale the data as shown in:\n",
            "    https://scikit-learn.org/stable/modules/preprocessing.html\n",
            "Please also refer to the documentation for alternative solver options:\n",
            "    https://scikit-learn.org/stable/modules/linear_model.html#logistic-regression\n",
            "  n_iter_i = _check_optimize_result(\n"
          ]
        },
        {
          "output_type": "stream",
          "name": "stdout",
          "text": [
            "-------Teste validação cuzada-------\n",
            "test_accuracy média: 0.386 - 0.481\n",
            "test_recall média: 0.579 - 0.649\n",
            "test_precision média: 0.083 - 0.1\n",
            "test_f1 média: 0.146 - 0.173\n",
            "\n",
            "-------Teste modelo final-----------\n",
            "Acurácia: 0.747\n",
            "Precisão: 0.144\n",
            "Recall:   0.386\n",
            "F1-score: 0.21\n",
            "\n"
          ]
        },
        {
          "output_type": "stream",
          "name": "stderr",
          "text": [
            "/usr/local/lib/python3.11/dist-packages/sklearn/linear_model/_logistic.py:465: ConvergenceWarning: lbfgs failed to converge (status=1):\n",
            "STOP: TOTAL NO. OF ITERATIONS REACHED LIMIT.\n",
            "\n",
            "Increase the number of iterations (max_iter) or scale the data as shown in:\n",
            "    https://scikit-learn.org/stable/modules/preprocessing.html\n",
            "Please also refer to the documentation for alternative solver options:\n",
            "    https://scikit-learn.org/stable/modules/linear_model.html#logistic-regression\n",
            "  n_iter_i = _check_optimize_result(\n"
          ]
        },
        {
          "output_type": "execute_result",
          "data": {
            "text/plain": [
              "<sklearn.metrics._plot.confusion_matrix.ConfusionMatrixDisplay at 0x78d0cbbaf290>"
            ]
          },
          "metadata": {},
          "execution_count": 21
        },
        {
          "output_type": "display_data",
          "data": {
            "text/plain": [
              "<Figure size 640x480 with 2 Axes>"
            ],
            "image/png": "[encoded data removed]"
          },
          "metadata": {}
        }
      ]
    },
    {
      "cell_type": "markdown",
      "source": [
        "## Random Forest"
      ],
      "metadata": {
        "id": "dh7WwgR6OF8n"
      }
    },
    {
      "cell_type": "code",
      "source": [
        "# RandomForestClassifier Smote\n",
        "\n",
        "from sklearn.ensemble import RandomForestClassifier\n",
        "from sklearn.metrics import accuracy_score, precision_score, recall_score, f1_score\n",
        "from sklearn.model_selection import StratifiedKFold\n",
        "from imblearn.over_sampling import SMOTE\n",
        "from sklearn.model_selection import train_test_split, cross_validate\n",
        "\n",
        "x = dados.drop('inadimplente', axis=1)\n",
        "y = dados['inadimplente']\n",
        "seed = 123\n",
        "\n",
        "x_treino, x_test, y_treino, y_test = train_test_split(x, y, test_size=0.15, stratify=y, random_state=seed)\n",
        "\n",
        "#pipeline - balanceamento e validaçao\n",
        "from imblearn.pipeline import Pipeline as imbpipeline\n",
        "\n",
        "sm = SMOTE(random_state=seed)\n",
        "modelo = RandomForestClassifier(max_depth=10, random_state=seed)\n",
        "pipeline = imbpipeline([(\"balanceamento\", sm), (\"modelo\", modelo)])\n",
        "\n",
        "skf = StratifiedKFold(n_splits=5, shuffle=True, random_state=seed)\n",
        "scv = cross_validate(pipeline, x_treino, y_treino, cv=skf, scoring=[\"recall\",\"precision\",\"accuracy\",\"f1\"])\n",
        "\n",
        "def media_desvio(metrica):\n",
        "  media = scv[metrica].mean()\n",
        "  devio_padrao = round(scv[metrica].std(),4)\n",
        "  # print(f\"{metrica}: {media} +- {devio_padrao}\")\n",
        "  print(f\"{metrica} média: {round(media - 2*devio_padrao,3)} - {round(media + 2*devio_padrao,3)}\")\n",
        "\n",
        "print(\"-------Teste validação cuzada-------\")\n",
        "media_desvio(\"test_accuracy\")\n",
        "media_desvio(\"test_recall\")\n",
        "media_desvio(\"test_precision\")\n",
        "media_desvio(\"test_f1\")\n",
        "\n",
        "# Treinando o modelo para utilização\n",
        "x_balanceado, y_balanceado = sm.fit_resample(x_treino, y_treino)\n",
        "modelo_final = modelo.fit(x_balanceado, y_balanceado)\n",
        "y_pred = modelo_final.predict(x_test)\n",
        "\n",
        "# Teste do modelo vinal com os dados de teste\n",
        "print(\"\\n-------Teste modelo final-----------\")\n",
        "print(f'Acurácia: {round(accuracy_score(y_test, y_pred),3)}')\n",
        "print(f'Precisão: {round(precision_score(y_test, y_pred),3)}')\n",
        "print(f'Recall:   {round(recall_score(y_test, y_pred),3)}')\n",
        "print(f'F1-score: {round(f1_score(y_test, y_pred),3)}\\n')\n",
        "\n",
        "matrix = confusion_matrix(y_test, y_pred)\n",
        "matrix\n",
        "\n",
        "from sklearn.metrics import ConfusionMatrixDisplay\n",
        "grafico_matrix = ConfusionMatrixDisplay(matrix, display_labels=modelo_final.classes_)\n",
        "grafico_matrix.plot()"
      ],
      "metadata": {
        "id": "WZ7AOmHGOKxQ",
        "colab": {
          "base_uri": "https://localhost:8080/",
          "height": 675
        },
        "outputId": "8b38bd5f-d01b-4927-a498-9e15b945b417"
      },
      "execution_count": 22,
      "outputs": [
        {
          "output_type": "stream",
          "name": "stdout",
          "text": [
            "-------Teste validação cuzada-------\n",
            "test_accuracy média: 0.782 - 0.794\n",
            "test_recall média: 0.228 - 0.248\n",
            "test_precision média: 0.117 - 0.133\n",
            "test_f1 média: 0.155 - 0.173\n",
            "\n",
            "-------Teste modelo final-----------\n",
            "Acurácia: 0.794\n",
            "Precisão: 0.12\n",
            "Recall:   0.215\n",
            "F1-score: 0.154\n",
            "\n"
          ]
        },
        {
          "output_type": "execute_result",
          "data": {
            "text/plain": [
              "<sklearn.metrics._plot.confusion_matrix.ConfusionMatrixDisplay at 0x78d0cbdb3bd0>"
            ]
          },
          "metadata": {},
          "execution_count": 22
        },
        {
          "output_type": "display_data",
          "data": {
            "text/plain": [
              "<Figure size 640x480 with 2 Axes>"
            ],
            "image/png": "[encoded data removed]"
          },
          "metadata": {}
        }
      ]
    },
    {
      "cell_type": "code",
      "source": [
        "# RandomForestClassifier NearMiss\n",
        "\n",
        "from sklearn.ensemble import RandomForestClassifier\n",
        "from sklearn.metrics import accuracy_score, precision_score, recall_score, f1_score\n",
        "from sklearn.model_selection import StratifiedKFold\n",
        "from imblearn.under_sampling import NearMiss\n",
        "from sklearn.model_selection import train_test_split, cross_validate\n",
        "\n",
        "x = dados.drop('inadimplente', axis=1)\n",
        "y = dados['inadimplente']\n",
        "seed = 123\n",
        "\n",
        "x_treino, x_test, y_treino, y_test = train_test_split(x, y, test_size=0.15, stratify=y, random_state=seed)\n",
        "\n",
        "#pipeline - balanceamento e validaçao\n",
        "from imblearn.pipeline import Pipeline as imbpipeline\n",
        "\n",
        "nm = NearMiss()\n",
        "modelo = RandomForestClassifier(max_depth=10, random_state=seed)\n",
        "\n",
        "pipeline = imbpipeline([(\"balanceamento\", nm), (\"modelo\", modelo)])\n",
        "\n",
        "skf = StratifiedKFold(n_splits=5, shuffle=True, random_state=seed)\n",
        "scv = cross_validate(pipeline, x_treino, y_treino, cv=skf, scoring=[\"recall\",\"precision\",\"accuracy\",\"f1\"])\n",
        "\n",
        "def media_desvio(metrica):\n",
        "  media = scv[metrica].mean()\n",
        "  devio_padrao = round(scv[metrica].std(),4)\n",
        "  # print(f\"{metrica}: {media} +- {devio_padrao}\")\n",
        "  print(f\"{metrica} média: {round(media - 2*devio_padrao,3)} - {round(media + 2*devio_padrao,3)}\")\n",
        "\n",
        "print(\"-------Teste validação cuzada-------\")\n",
        "media_desvio(\"test_accuracy\")\n",
        "media_desvio(\"test_recall\")\n",
        "media_desvio(\"test_precision\")\n",
        "media_desvio(\"test_f1\")\n",
        "\n",
        "# Treinando o modelo para utilização\n",
        "x_balanceado, y_balanceado = nm.fit_resample(x_treino, y_treino)\n",
        "modelo_final = modelo.fit(x_balanceado, y_balanceado)\n",
        "y_pred = modelo_final.predict(x_test)\n",
        "\n",
        "# Teste do modelo vinal com os dados de teste\n",
        "print(\"\\n-------Teste modelo final-----------\")\n",
        "print(f'Acurácia: {round(accuracy_score(y_test, y_pred),3)}')\n",
        "print(f'Precisão: {round(precision_score(y_test, y_pred),3)}')\n",
        "print(f'Recall:   {round(recall_score(y_test, y_pred),3)}')\n",
        "print(f'F1-score: {round(f1_score(y_test, y_pred),3)}\\n')\n",
        "\n",
        "matrix = confusion_matrix(y_test, y_pred)\n",
        "matrix\n",
        "\n",
        "from sklearn.metrics import ConfusionMatrixDisplay\n",
        "grafico_matrix = ConfusionMatrixDisplay(matrix, display_labels=modelo_final.classes_)\n",
        "grafico_matrix.plot()"
      ],
      "metadata": {
        "id": "AXNYLYjmO2IQ",
        "colab": {
          "base_uri": "https://localhost:8080/",
          "height": 675
        },
        "outputId": "9b9531ef-5551-4d26-ea04-41ca481862e4"
      },
      "execution_count": 23,
      "outputs": [
        {
          "output_type": "stream",
          "name": "stdout",
          "text": [
            "-------Teste validação cuzada-------\n",
            "test_accuracy média: 0.255 - 0.28\n",
            "test_recall média: 0.767 - 0.799\n",
            "test_precision média: 0.085 - 0.09\n",
            "test_f1 média: 0.153 - 0.162\n",
            "\n",
            "-------Teste modelo final-----------\n",
            "Acurácia: 0.266\n",
            "Precisão: 0.087\n",
            "Recall:   0.777\n",
            "F1-score: 0.156\n",
            "\n"
          ]
        },
        {
          "output_type": "execute_result",
          "data": {
            "text/plain": [
              "<sklearn.metrics._plot.confusion_matrix.ConfusionMatrixDisplay at 0x78d0c0e2a1d0>"
            ]
          },
          "metadata": {},
          "execution_count": 23
        },
        {
          "output_type": "display_data",
          "data": {
            "text/plain": [
              "<Figure size 640x480 with 2 Axes>"
            ],
            "image/png": "[encoded data removed]"
          },
          "metadata": {}
        }
      ]
    },
    {
      "cell_type": "code",
      "source": [
        "# RandomForestClassifier SmotEEN\n",
        "\n",
        "from sklearn.ensemble import RandomForestClassifier\n",
        "from sklearn.metrics import accuracy_score, precision_score, recall_score, f1_score\n",
        "from sklearn.model_selection import StratifiedKFold\n",
        "from imblearn.over_sampling import SMOTEN\n",
        "from sklearn.model_selection import train_test_split, cross_validate\n",
        "\n",
        "x = dados.drop('inadimplente', axis=1)\n",
        "y = dados['inadimplente']\n",
        "seed = 123\n",
        "\n",
        "x_treino, x_test, y_treino, y_test = train_test_split(x, y, test_size=0.15, stratify=y, random_state=seed)\n",
        "\n",
        "#pipeline - balanceamento e validaçao\n",
        "from imblearn.pipeline import Pipeline as imbpipeline\n",
        "\n",
        "sme = SMOTEN()\n",
        "modelo = DecisionTreeClassifier(max_depth=10, random_state=seed)\n",
        "\n",
        "pipeline = imbpipeline([(\"balanceamento\", nm), (\"modelo\", modelo)])\n",
        "\n",
        "skf = StratifiedKFold(n_splits=5, shuffle=True, random_state=seed)\n",
        "scv = cross_validate(pipeline, x_treino, y_treino, cv=skf, scoring=[\"recall\",\"precision\",\"accuracy\",\"f1\"])\n",
        "\n",
        "def media_desvio(metrica):\n",
        "  media = scv[metrica].mean()\n",
        "  devio_padrao = round(scv[metrica].std(),4)\n",
        "  # print(f\"{metrica}: {media} +- {devio_padrao}\")\n",
        "  print(f\"{metrica} média: {round(media - 2*devio_padrao,3)} - {round(media + 2*devio_padrao,3)}\")\n",
        "\n",
        "print(\"-------Teste validação cuzada-------\")\n",
        "media_desvio(\"test_accuracy\")\n",
        "media_desvio(\"test_recall\")\n",
        "media_desvio(\"test_precision\")\n",
        "media_desvio(\"test_f1\")\n",
        "\n",
        "# Treinando o modelo para utilização\n",
        "x_balanceado, y_balanceado = sme.fit_resample(x_treino, y_treino)\n",
        "modelo_final = modelo.fit(x_balanceado, y_balanceado)\n",
        "y_pred = modelo_final.predict(x_test)\n",
        "\n",
        "# Teste do modelo vinal com os dados de teste\n",
        "print(\"\\n-------Teste modelo final-----------\")\n",
        "print(f'Acurácia: {round(accuracy_score(y_test, y_pred),3)}')\n",
        "print(f'Precisão: {round(precision_score(y_test, y_pred),3)}')\n",
        "print(f'Recall:   {round(recall_score(y_test, y_pred),3)}')\n",
        "print(f'F1-score: {round(f1_score(y_test, y_pred),3)}\\n')\n",
        "\n",
        "matrix = confusion_matrix(y_test, y_pred)\n",
        "matrix\n",
        "\n",
        "from sklearn.metrics import ConfusionMatrixDisplay\n",
        "grafico_matrix = ConfusionMatrixDisplay(matrix, display_labels=modelo_final.classes_)\n",
        "grafico_matrix.plot()"
      ],
      "metadata": {
        "id": "GsBCCMvEO90I",
        "colab": {
          "base_uri": "https://localhost:8080/",
          "height": 675
        },
        "outputId": "37442098-dd54-4ca5-9b83-6025f6f38d34"
      },
      "execution_count": 24,
      "outputs": [
        {
          "output_type": "stream",
          "name": "stdout",
          "text": [
            "-------Teste validação cuzada-------\n",
            "test_accuracy média: 0.26 - 0.291\n",
            "test_recall média: 0.735 - 0.801\n",
            "test_precision média: 0.084 - 0.09\n",
            "test_f1 média: 0.15 - 0.162\n",
            "\n",
            "-------Teste modelo final-----------\n",
            "Acurácia: 0.841\n",
            "Precisão: 0.187\n",
            "Recall:   0.248\n",
            "F1-score: 0.213\n",
            "\n"
          ]
        },
        {
          "output_type": "execute_result",
          "data": {
            "text/plain": [
              "<sklearn.metrics._plot.confusion_matrix.ConfusionMatrixDisplay at 0x78d0bca36790>"
            ]
          },
          "metadata": {},
          "execution_count": 24
        },
        {
          "output_type": "display_data",
          "data": {
            "text/plain": [
              "<Figure size 640x480 with 2 Axes>"
            ],
            "image/png": "[encoded data removed]"
          },
          "metadata": {}
        }
      ]
    },
    {
      "cell_type": "markdown",
      "source": [
        "Apos testar 4 algoritmos: DecisionTrion, Kneighbors, logisticRegression, Random Forest, sebdo balanceados via: Smote, NearMiss, SmotEEN.\n",
        "\n",
        "\n",
        "Conseguimos o melhor resultado ao aplicar NearMiss antes do treinamento com KNN, o modelo se beneficia de uma distribuição de dados mais equilibrada e de vizinhanças mais representativas da realidade de inadimplência. Como resultado, ele consegue identificar inadimplentes com maior eficiência, mesmo que isso possa ocorrer às custas de alguma perda em precisão ou acurácia geral."
      ],
      "metadata": {
        "id": "PeAJ2Am3NZQq"
      }
    }
  ]
}